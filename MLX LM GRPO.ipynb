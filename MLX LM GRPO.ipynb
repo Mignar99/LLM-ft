{
 "cells": [
  {
   "cell_type": "markdown",
   "id": "1055c3f3",
   "metadata": {},
   "source": [
    "### GRPO Fine-Tuning with MLX LM\n",
    "\n",
    "In this notebook, we'll walk through how to fine-tune an LLM with **Group Relative Policy Optimization (GRPO)** using MLX LM. GRPO is a Reinforcement Learning algorithm similar to PPO. We'll use the [HellaSwag](https://rowanzellers.com/hellaswag/) dataset for common sense reasoning as an example. An outline:\n",
    "\n",
    "1. Download the dataset and prepare it for the GRPO loop.\n",
    "2. Setup and run GRPO training. We will implement the full RL loop, including rollout, reward calculation, and optimization with the PPO-clip objective.\n",
    "3. Evaluate the final accuracy on the test set.\n",
    "4. Fuse the resulting adapters into the base model.\n",
    "5. Discuss tips for debugging accuracy and efficiency.\n",
    "\n",
    "Note: This notebook currently does not have an implementation for the reward function. Instead, it has a dummy reward logic:\n",
    "\n",
    "```python\n",
    "reward = 1.0 if batch_answers[i] in response else 0.0\n",
    "```\n",
    "\n",
    "I will add a reward function to this notebook later on and inform again when done, but please feel free to file a pull request if you would like to contribute in anyway."
   ]
  },
  {
   "cell_type": "markdown",
   "id": "21397627",
   "metadata": {},
   "source": [
    "### Install dependencies"
   ]
  },
  {
   "cell_type": "code",
   "execution_count": 1,
   "id": "664272fb",
   "metadata": {
    "scrolled": true
   },
   "outputs": [
    {
     "name": "stdout",
     "output_type": "stream",
     "text": [
      "Requirement already satisfied: mlx-lm in /Users/dariomelle/anaconda3/envs/gptoss20b-finetuning-mlx/lib/python3.12/site-packages (0.28.0)\n",
      "Requirement already satisfied: mlx>=0.29.1 in /Users/dariomelle/anaconda3/envs/gptoss20b-finetuning-mlx/lib/python3.12/site-packages (from mlx-lm) (0.29.1)\n",
      "Requirement already satisfied: numpy in /Users/dariomelle/anaconda3/envs/gptoss20b-finetuning-mlx/lib/python3.12/site-packages (from mlx-lm) (2.3.3)\n",
      "Requirement already satisfied: transformers>=4.39.3 in /Users/dariomelle/anaconda3/envs/gptoss20b-finetuning-mlx/lib/python3.12/site-packages (from mlx-lm) (4.56.2)\n",
      "Requirement already satisfied: protobuf in /Users/dariomelle/anaconda3/envs/gptoss20b-finetuning-mlx/lib/python3.12/site-packages (from mlx-lm) (6.32.1)\n",
      "Requirement already satisfied: pyyaml in /Users/dariomelle/anaconda3/envs/gptoss20b-finetuning-mlx/lib/python3.12/site-packages (from mlx-lm) (6.0.2)\n",
      "Requirement already satisfied: jinja2 in /Users/dariomelle/anaconda3/envs/gptoss20b-finetuning-mlx/lib/python3.12/site-packages (from mlx-lm) (3.1.6)\n",
      "Requirement already satisfied: mlx-metal==0.29.1 in /Users/dariomelle/anaconda3/envs/gptoss20b-finetuning-mlx/lib/python3.12/site-packages (from mlx>=0.29.1->mlx-lm) (0.29.1)\n",
      "Requirement already satisfied: filelock in /Users/dariomelle/anaconda3/envs/gptoss20b-finetuning-mlx/lib/python3.12/site-packages (from transformers>=4.39.3->mlx-lm) (3.19.1)\n",
      "Requirement already satisfied: huggingface-hub<1.0,>=0.34.0 in /Users/dariomelle/anaconda3/envs/gptoss20b-finetuning-mlx/lib/python3.12/site-packages (from transformers>=4.39.3->mlx-lm) (0.35.1)\n",
      "Requirement already satisfied: packaging>=20.0 in /Users/dariomelle/anaconda3/envs/gptoss20b-finetuning-mlx/lib/python3.12/site-packages (from transformers>=4.39.3->mlx-lm) (25.0)\n",
      "Requirement already satisfied: regex!=2019.12.17 in /Users/dariomelle/anaconda3/envs/gptoss20b-finetuning-mlx/lib/python3.12/site-packages (from transformers>=4.39.3->mlx-lm) (2025.9.18)\n",
      "Requirement already satisfied: requests in /Users/dariomelle/anaconda3/envs/gptoss20b-finetuning-mlx/lib/python3.12/site-packages (from transformers>=4.39.3->mlx-lm) (2.32.5)\n",
      "Requirement already satisfied: tokenizers<=0.23.0,>=0.22.0 in /Users/dariomelle/anaconda3/envs/gptoss20b-finetuning-mlx/lib/python3.12/site-packages (from transformers>=4.39.3->mlx-lm) (0.22.1)\n",
      "Requirement already satisfied: safetensors>=0.4.3 in /Users/dariomelle/anaconda3/envs/gptoss20b-finetuning-mlx/lib/python3.12/site-packages (from transformers>=4.39.3->mlx-lm) (0.6.2)\n",
      "Requirement already satisfied: tqdm>=4.27 in /Users/dariomelle/anaconda3/envs/gptoss20b-finetuning-mlx/lib/python3.12/site-packages (from transformers>=4.39.3->mlx-lm) (4.67.1)\n",
      "Requirement already satisfied: fsspec>=2023.5.0 in /Users/dariomelle/anaconda3/envs/gptoss20b-finetuning-mlx/lib/python3.12/site-packages (from huggingface-hub<1.0,>=0.34.0->transformers>=4.39.3->mlx-lm) (2025.9.0)\n",
      "Requirement already satisfied: typing-extensions>=3.7.4.3 in /Users/dariomelle/anaconda3/envs/gptoss20b-finetuning-mlx/lib/python3.12/site-packages (from huggingface-hub<1.0,>=0.34.0->transformers>=4.39.3->mlx-lm) (4.15.0)\n",
      "Requirement already satisfied: hf-xet<2.0.0,>=1.1.3 in /Users/dariomelle/anaconda3/envs/gptoss20b-finetuning-mlx/lib/python3.12/site-packages (from huggingface-hub<1.0,>=0.34.0->transformers>=4.39.3->mlx-lm) (1.1.10)\n",
      "Requirement already satisfied: MarkupSafe>=2.0 in /Users/dariomelle/anaconda3/envs/gptoss20b-finetuning-mlx/lib/python3.12/site-packages (from jinja2->mlx-lm) (3.0.2)\n",
      "Requirement already satisfied: charset_normalizer<4,>=2 in /Users/dariomelle/anaconda3/envs/gptoss20b-finetuning-mlx/lib/python3.12/site-packages (from requests->transformers>=4.39.3->mlx-lm) (3.4.3)\n",
      "Requirement already satisfied: idna<4,>=2.5 in /Users/dariomelle/anaconda3/envs/gptoss20b-finetuning-mlx/lib/python3.12/site-packages (from requests->transformers>=4.39.3->mlx-lm) (3.10)\n",
      "Requirement already satisfied: urllib3<3,>=1.21.1 in /Users/dariomelle/anaconda3/envs/gptoss20b-finetuning-mlx/lib/python3.12/site-packages (from requests->transformers>=4.39.3->mlx-lm) (2.5.0)\n",
      "Requirement already satisfied: certifi>=2017.4.17 in /Users/dariomelle/anaconda3/envs/gptoss20b-finetuning-mlx/lib/python3.12/site-packages (from requests->transformers>=4.39.3->mlx-lm) (2025.8.3)\n",
      "Requirement already satisfied: matplotlib in /Users/dariomelle/anaconda3/envs/gptoss20b-finetuning-mlx/lib/python3.12/site-packages (3.10.6)\n",
      "Requirement already satisfied: contourpy>=1.0.1 in /Users/dariomelle/anaconda3/envs/gptoss20b-finetuning-mlx/lib/python3.12/site-packages (from matplotlib) (1.3.3)\n",
      "Requirement already satisfied: cycler>=0.10 in /Users/dariomelle/anaconda3/envs/gptoss20b-finetuning-mlx/lib/python3.12/site-packages (from matplotlib) (0.12.1)\n",
      "Requirement already satisfied: fonttools>=4.22.0 in /Users/dariomelle/anaconda3/envs/gptoss20b-finetuning-mlx/lib/python3.12/site-packages (from matplotlib) (4.60.0)\n",
      "Requirement already satisfied: kiwisolver>=1.3.1 in /Users/dariomelle/anaconda3/envs/gptoss20b-finetuning-mlx/lib/python3.12/site-packages (from matplotlib) (1.4.9)\n",
      "Requirement already satisfied: numpy>=1.23 in /Users/dariomelle/anaconda3/envs/gptoss20b-finetuning-mlx/lib/python3.12/site-packages (from matplotlib) (2.3.3)\n",
      "Requirement already satisfied: packaging>=20.0 in /Users/dariomelle/anaconda3/envs/gptoss20b-finetuning-mlx/lib/python3.12/site-packages (from matplotlib) (25.0)\n",
      "Requirement already satisfied: pillow>=8 in /Users/dariomelle/anaconda3/envs/gptoss20b-finetuning-mlx/lib/python3.12/site-packages (from matplotlib) (11.3.0)\n",
      "Requirement already satisfied: pyparsing>=2.3.1 in /Users/dariomelle/anaconda3/envs/gptoss20b-finetuning-mlx/lib/python3.12/site-packages (from matplotlib) (3.2.5)\n",
      "Requirement already satisfied: python-dateutil>=2.7 in /Users/dariomelle/anaconda3/envs/gptoss20b-finetuning-mlx/lib/python3.12/site-packages (from matplotlib) (2.9.0.post0)\n",
      "Requirement already satisfied: six>=1.5 in /Users/dariomelle/anaconda3/envs/gptoss20b-finetuning-mlx/lib/python3.12/site-packages (from python-dateutil>=2.7->matplotlib) (1.17.0)\n"
     ]
    }
   ],
   "source": [
    "!pip install mlx-lm\n",
    "!pip install matplotlib"
   ]
  },
  {
   "cell_type": "markdown",
   "id": "dd27c693",
   "metadata": {},
   "source": [
    "### Preprocess Data\n",
    "We'll start by downloading an already pre-processed version of the HellaSwag dataset from [LLM-Adapters](https://github.com/AGI-Edgerunners/LLM-Adapters)."
   ]
  },
  {
   "cell_type": "code",
   "execution_count": 1,
   "id": "61698208",
   "metadata": {},
   "outputs": [
    {
     "name": "stdout",
     "output_type": "stream",
     "text": [
      "HellaSwag stats: 39905 training examples and 10042 test examples.\n",
      "An example:\n",
      "\n",
      "{\n",
      "    \"instruction\": \"Please choose the correct ending to complete the given sentence: Removing ice from car: Then, the man writes over the snow covering the window of a car, and a woman wearing winter clothes smiles. then\\n\\nEnding1: , the man adds wax to the windshield and cuts it. Ending2: , a person board a ski lift, while two men supporting the head of the person wearing winter clothes snow as the we girls sled. Ending3: , the man puts on a christmas coat, knitted with netting. Ending4: , the man continues removing the snow on his car.\\n\\nAnswer format: ending1/ending2/ending3/ending4\",\n",
      "    \"input\": \"\",\n",
      "    \"output\": \"the correct answer is ending4\",\n",
      "    \"answer\": \"ending4\"\n",
      "}\n"
     ]
    }
   ],
   "source": [
    "import json\n",
    "import numpy as np\n",
    "from pathlib import Path\n",
    "from urllib import request\n",
    "\n",
    "save_dir = \"/tmp/hellaswag\"\n",
    "\n",
    "def download_and_save(save_dir):\n",
    "    base_url = \"https://raw.githubusercontent.com/AGI-Edgerunners/LLM-Adapters/main/dataset/hellaswag/\"\n",
    "    save_dir = Path(save_dir)\n",
    "    save_dir.mkdir(parents=True, exist_ok=True)\n",
    "    for name in [\"train.json\", \"test.json\"]:\n",
    "        out_file = save_dir / name\n",
    "        if not out_file.exists():\n",
    "            request.urlretrieve(base_url + name, out_file)\n",
    "\n",
    "def load_json(dataset):\n",
    "    download_and_save(save_dir)\n",
    "    with open(f\"{save_dir}/{dataset}.json\", \"r\") as fid:\n",
    "        return json.load(fid)\n",
    "\n",
    "train_set, test_set = load_json(\"train\"), load_json(\"test\")\n",
    "print(f\"HellaSwag stats: {len(train_set)} training examples and {len(test_set)} test examples.\")\n",
    "print(\"An example:\\n\")\n",
    "print(json.dumps(train_set[0], indent=4))"
   ]
  },
  {
   "cell_type": "markdown",
   "id": "9a514d79",
   "metadata": {},
   "source": [
    "Next, let's split the training set into a training and a validation set. We'll pull out a randomly chosen 10% for validation."
   ]
  },
  {
   "cell_type": "code",
   "execution_count": 2,
   "id": "9b607237",
   "metadata": {},
   "outputs": [],
   "source": [
    "# Seed for reproducibility\n",
    "np.random.seed(43)\n",
    "perm = np.random.permutation(len(train_set))\n",
    "valid_size = int(0.1 * len(train_set))\n",
    "valid_set = [train_set[i] for i in perm[:valid_size]]\n",
    "train_set = [train_set[i] for i in perm[valid_size:]]"
   ]
  },
  {
   "cell_type": "markdown",
   "id": "b259eb69",
   "metadata": {},
   "source": [
    "### Fine-Tune\n",
    "\n",
    "For fine-tuning, we'll use Microsoft's [Phi-3 mini](https://huggingface.co/microsoft/Phi-3-mini-4k-instruct). At 3.8 billion parameters, Phi-3 mini is a high-quality model that is also fast to fine-tune on most Apple silicon machines. Also, it has a [permissive MIT License](https://huggingface.co/microsoft/Phi-3-mini-4k-instruct/blob/main/LICENSE).\n",
    "\n",
    "First, import all the packages and functions we need."
   ]
  },
  {
   "cell_type": "code",
   "execution_count": 3,
   "id": "c3ff309a",
   "metadata": {},
   "outputs": [],
   "source": [
    "import matplotlib.pyplot as plt\n",
    "import mlx.core as mx\n",
    "import mlx.nn as nn\n",
    "import mlx.optimizers as optim\n",
    "from mlx.utils import tree_flatten, tree_unflatten, tree_map\n",
    "from mlx_lm import load, generate\n",
    "from mlx_lm.tuner.lora import LoRALinear\n",
    "from mlx_lm.tuner import linear_to_lora_layers\n",
    "from mlx_lm.sample_utils import make_sampler\n",
    "import tqdm\n",
    "import os\n",
    "import time\n",
    "import copy\n",
    "os.environ[\"TOKENIZERS_PARALLELISM\"] = \"true\""
   ]
  },
  {
   "cell_type": "markdown",
   "id": "87628d24",
   "metadata": {},
   "source": [
    "Next, setup the LoRA parameters."
   ]
  },
  {
   "cell_type": "code",
   "execution_count": 4,
   "id": "f0851dc8",
   "metadata": {},
   "outputs": [],
   "source": [
    "# Make a directory to save the adapter config and weights\n",
    "adapter_path = Path(\"adaptersGRPO\")\n",
    "adapter_path.mkdir(parents=True, exist_ok=True)\n",
    "\n",
    "lora_config = {\n",
    " \"num_layers\": 8,\n",
    " \"lora_parameters\": {\n",
    "    \"rank\": 8,\n",
    "    \"scale\": 10.0, # This can be tuned\n",
    "    \"dropout\": 0.0,\n",
    "}}\n",
    "\n",
    "# Save the LoRA config to the adapter path\n",
    "with open(adapter_path / \"adapter_config.json\", \"w\") as fid:\n",
    "    json.dump(lora_config, fid, indent=4)"
   ]
  },
  {
   "cell_type": "markdown",
   "id": "56fefd19",
   "metadata": {},
   "source": [
    "Next, load the models. For GRPO, we need three models:\n",
    "- `model` (π_θ): The model we are training with LoRA adapters.\n",
    "- `model_old` (π_θold): A copy of `model` used for generating rollouts. Its weights are periodically synchronized with `model`.\n",
    "- `model_ref` (π_ref): The original pretrained model, used as a reference for the KL-divergence penalty."
   ]
  },
  {
   "cell_type": "code",
   "execution_count": 5,
   "id": "fb0b16f2",
   "metadata": {},
   "outputs": [
    {
     "data": {
      "application/vnd.jupyter.widget-view+json": {
       "model_id": "7ac0f91ee365455b95dffe0dacd9219f",
       "version_major": 2,
       "version_minor": 0
      },
      "text/plain": [
       "Fetching 9 files:   0%|          | 0/9 [00:00<?, ?it/s]"
      ]
     },
     "metadata": {},
     "output_type": "display_data"
    }
   ],
   "source": [
    "model_path = \"mlx-community/Phi-3-mini-4k-instruct-4bit\"\n",
    "\n",
    "# Load the main model and tokenizer\n",
    "model, tokenizer = load(model_path);\n",
    "\n"
   ]
  },
  {
   "cell_type": "code",
   "execution_count": 6,
   "id": "98d3579e",
   "metadata": {},
   "outputs": [
    {
     "data": {
      "application/vnd.jupyter.widget-view+json": {
       "model_id": "0f08d038cc6546268cec0d02b73904ac",
       "version_major": 2,
       "version_minor": 0
      },
      "text/plain": [
       "Fetching 9 files:   0%|          | 0/9 [00:00<?, ?it/s]"
      ]
     },
     "metadata": {},
     "output_type": "display_data"
    }
   ],
   "source": [
    "# Load the reference model\n",
    "model_ref, _ = load(model_path);\n",
    "model_ref.freeze();"
   ]
  },
  {
   "cell_type": "markdown",
   "id": "6609c92a",
   "metadata": {},
   "source": [
    "After loading the main model, freeze its base parameters and convert the specified linear layers to LoRA layers. The LoRA adapters will be the only trainable parameters."
   ]
  },
  {
   "cell_type": "code",
   "execution_count": 9,
   "id": "50e1ab3a",
   "metadata": {},
   "outputs": [
    {
     "name": "stdout",
     "output_type": "stream",
     "text": [
      "Freezing base model...\n",
      "Base model frozen.\n",
      "Converted linear layers to LoRA layers.\n"
     ]
    },
    {
     "data": {
      "application/vnd.jupyter.widget-view+json": {
       "model_id": "dea4dbe0594e4fe897b09b7d5a2e0ed7",
       "version_major": 2,
       "version_minor": 0
      },
      "text/plain": [
       "Fetching 9 files:   0%|          | 0/9 [00:00<?, ?it/s]"
      ]
     },
     "metadata": {},
     "output_type": "display_data"
    },
    {
     "name": "stdout",
     "output_type": "stream",
     "text": [
      "Old model created.\n",
      "Converted old model linear layers to LoRA layers.\n",
      "Old model weights synced.\n",
      "Old model frozen.\n",
      "Number of trainable parameters: 786,432\n"
     ]
    }
   ],
   "source": [
    "# Freeze the base model\n",
    "print(\"Freezing base model...\")\n",
    "model.freeze()\n",
    "print(\"Base model frozen.\")\n",
    "# Convert linear layers to lora layers\n",
    "linear_to_lora_layers(model, lora_config[\"num_layers\"], lora_config[\"lora_parameters\"])\n",
    "print(\"Converted linear layers to LoRA layers.\")\n",
    "# Create the old model for rollouts\n",
    "model_old, _ = load(model_path)\n",
    "print(\"Old model created.\")\n",
    "linear_to_lora_layers(model_old, lora_config[\"num_layers\"], lora_config[\"lora_parameters\"])\n",
    "print(\"Converted old model linear layers to LoRA layers.\")\n",
    "model_old.update(model.parameters()) # Sync weights\n",
    "print(\"Old model weights synced.\")\n",
    "model_old.freeze()\n",
    "print(\"Old model frozen.\")\n",
    "\n",
    "num_train_params = (\n",
    "    sum(v.size for _, v in tree_flatten(model.trainable_parameters()))\n",
    ")\n",
    "print(f\"Number of trainable parameters: {num_train_params:,}\")"
   ]
  },
  {
   "cell_type": "markdown",
   "id": "d97656ab",
   "metadata": {},
   "source": [
    "## GRPO MODIFICATION ##\n",
    "### Define the GRPO loss and training loop\n",
    "\n",
    "Here we define the core components for GRPO. This includes:\n",
    "1. A helper function to calculate the log probabilities of a sequence.\n",
    "2. The GRPO loss function, which computes the PPO-clip objective and KL penalty.\n",
    "3. The main training loop that orchestrates the RL process."
   ]
  },
  {
   "cell_type": "code",
   "execution_count": 10,
   "id": "grpo-helpers",
   "metadata": {},
   "outputs": [],
   "source": [
    "from mlx import nn\n",
    "\n",
    "def calculate_log_probs(model, sequences, a_toks):\n",
    "    \"\"\"Calculates the log probabilities of the generated answer tokens.\"\"\"\n",
    "    # Pass the full sequence (prompt + answer) to the model\n",
    "    logits = model(sequences)\n",
    "\n",
    "    # Convert to log probabilities\n",
    "    log_probs_full = nn.log_softmax(logits, axis=-1)\n",
    "\n",
    "    ## Find the actual positions where answer tokens should be extracted\n",
    "    # This assumes a_toks contains the actual token IDs that were generated\n",
    "    batch_size, seq_len = sequences.shape\n",
    "    _, ans_len = a_toks.shape\n",
    "\n",
    "    # Calculate the starting position for answer tokens (assuming they're at the end)\n",
    "    start_pos = seq_len - ans_len\n",
    "\n",
    "    # Extract log probabilities for the answer portion of the sequence\n",
    "    answer_log_probs = log_probs_full[:, start_pos:start_pos+ans_len, :]\n",
    "\n",
    "    # Create indices for gathering - ensure proper shape alignment\n",
    "    indices = a_toks[:, :, None]\n",
    "\n",
    "    # Extract log probabilities for the actual answer tokens\n",
    "    selected_log_probs = mx.take_along_axis(answer_log_probs, indices, axis=-1).squeeze(-1)\n",
    "\n",
    "    # Sum log probabilities across the answer sequence\n",
    "    return mx.sum(selected_log_probs, axis=-1)\n",
    "\n",
    "def grpo_loss_fn(model, model_ref, sequences, a_toks, advantages, old_log_probs, beta, epsilon):\n",
    "    \"\"\"The GRPO loss function.\"\"\"\n",
    "    # Get log probs from the trainable model (π_θ)\n",
    "    log_probs = calculate_log_probs(model, sequences, a_toks)\n",
    "\n",
    "    # Get log probs from the reference model (π_ref) for KL penalty\n",
    "    log_probs_ref = calculate_log_probs(model_ref, sequences, a_toks)\n",
    "\n",
    "    # PPO-clip objective\n",
    "    ratio = mx.exp(log_probs - old_log_probs)\n",
    "    clipped_ratio = mx.clip(ratio, 1.0 - epsilon, 1.0 + epsilon)\n",
    "    policy_reward = mx.minimum(ratio * advantages, clipped_ratio * advantages)\n",
    "\n",
    "    # KL penalty\n",
    "    # Step 1: Calculate log(r) where r = π_ref / π_θ\n",
    "    # log(r) = log(π_ref) - log(π_θ)\n",
    "    log_ratio_for_kl = log_probs_ref - log_probs\n",
    "\n",
    "    # Step 2: Calculate r itself by exponentiating log(r)\n",
    "    # r = exp(log(r))\n",
    "    ratio_for_kl = mx.exp(log_ratio_for_kl)\n",
    "\n",
    "    # Step 3: Apply the paper's full formula: r - log(r) - 1\n",
    "    kl_div = ratio_for_kl - log_ratio_for_kl - 1\n",
    "\n",
    "    # The objective is to maximize this, so we return the negative for minimization\n",
    "    loss = -mx.mean(policy_reward - beta * kl_div)\n",
    "    return loss, mx.mean(policy_reward), mx.mean(kl_div)"
   ]
  },
  {
   "cell_type": "code",
   "execution_count": 11,
   "id": "82634a0fd0588e0f",
   "metadata": {},
   "outputs": [],
   "source": [
    "# Pad sequences to the same length\n",
    "def pad_sequences(sequences, pad_token_id):\n",
    "    if not sequences:\n",
    "        return mx.array([])\n",
    "\n",
    "    # Find hte maximum length\n",
    "    max_len = max(len(seq) for seq in sequences)\n",
    "    padded_sequences = []\n",
    "\n",
    "    for seq in sequences:\n",
    "        if len(seq) < max_len:\n",
    "            padding = mx.array([pad_token_id] * (max_len - len(seq)))\n",
    "            padded_seq = mx.concatenate([seq, padding])\n",
    "\n",
    "        else:\n",
    "            padded_seq = seq\n",
    "        padded_sequences.append(padded_seq)\n",
    "\n",
    "    return mx.stack(padded_sequences)"
   ]
  },
  {
   "cell_type": "code",
   "execution_count": 12,
   "id": "grpo-loop",
   "metadata": {},
   "outputs": [],
   "source": [
    "def grpo_train_loop(\n",
    "    model, model_old, model_ref, tokenizer, optimizer, train_set,sampler,\n",
    "    iters=200, group_size=4, batch_size=2, epsilon=0.2, beta=0.01,\n",
    "    update_every=10, max_ans_len=4\n",
    "):\n",
    "    # Create a grad function for the trainable model\n",
    "    loss_and_grad_fn = nn.value_and_grad(model, grpo_loss_fn)\n",
    "    \n",
    "    losses = []\n",
    "    all_rewards = []\n",
    "    \n",
    "    \n",
    "    # Start training\n",
    "    pbar = tqdm.tqdm(range(iters))\n",
    "    for it in pbar:\n",
    "        batch_prompts = []\n",
    "        batch_answers = []\n",
    "        \n",
    "        # 1. Sample a batch of prompts\n",
    "        indices = np.random.randint(0, len(train_set), batch_size)\n",
    "        for i in indices:\n",
    "            # The last word of the output is the ground truth answer (e.g., \"ending4\")\n",
    "            prompt_text, answer_text = train_set[i][\"output\"].rsplit(\" \", maxsplit=1)\n",
    "            full_prompt = [\n",
    "                {\"role\": \"user\", \"content\": train_set[i][\"instruction\"]},\n",
    "                {\"role\": \"assistant\", \"content\": prompt_text}\n",
    "            ]\n",
    "            batch_prompts.append(full_prompt)\n",
    "            batch_answers.append(answer_text)\n",
    "        \n",
    "        # 2. Rollout: Generate G responses for each prompt using the old model\n",
    "        rollout_sequences = []\n",
    "        rollout_rewards = []\n",
    "        rollout_log_probs = []\n",
    "        rollout_a_toks = []\n",
    "\n",
    "        for i in range(batch_size):\n",
    "            prompt_tokens = tokenizer.apply_chat_template(batch_prompts[i], continue_final_message=True)\n",
    "            group_rewards = []\n",
    "\n",
    "            for _ in range(group_size):\n",
    "                # Generate a response\n",
    "                response = generate(model_old, tokenizer, prompt_tokens, max_tokens=max_ans_len, sampler=sampler)\n",
    "                answer_tokens = tokenizer.encode(response, add_special_tokens=False)\n",
    "                #print(\"Response:\", response)\n",
    "                #print(\"Correct answer:\", batch_answers[i])\n",
    "                # 3. Get Reward\n",
    "                reward = 1.0 if batch_answers[i] in response else 0.0\n",
    "                #print(\"Reward:\", reward)\n",
    "                group_rewards.append(reward)\n",
    "\n",
    "                # Store data for the optimization step\n",
    "                full_sequence = mx.array(prompt_tokens + answer_tokens)\n",
    "                rollout_sequences.append(full_sequence)\n",
    "                rollout_a_toks.append(mx.array(answer_tokens))\n",
    "\n",
    "            all_rewards.extend(group_rewards)\n",
    "            rollout_rewards.append(mx.array(group_rewards))\n",
    "        \n",
    "        # 4. Compute Advantages\n",
    "        advantages = []\n",
    "        for rewards in rollout_rewards:\n",
    "            mean_reward = mx.mean(rewards)\n",
    "            std_reward = mx.sqrt(mx.var(rewards)) + 1e-8 # Add epsilon for stability\n",
    "            adv = (rewards - mean_reward) / std_reward\n",
    "            advantages.append(adv)\n",
    "        \n",
    "        advantages = mx.concatenate(advantages)\n",
    "        sequences = pad_sequences(rollout_sequences, tokenizer.pad_token_id)\n",
    "        a_toks = pad_sequences(rollout_a_toks, tokenizer.pad_token_id)\n",
    "\n",
    "        # Calculate log_probs with the old model for the ratio calculation\n",
    "        old_log_probs = calculate_log_probs(model_old, sequences, a_toks)\n",
    "\n",
    "        # 5. Optimization Step\n",
    "        (loss, policy_reward, kl_div), grads = loss_and_grad_fn(\n",
    "            model, model_ref, sequences, a_toks, advantages, old_log_probs, beta, epsilon\n",
    "        )\n",
    "        \n",
    "        print(\n",
    "            \"Step:\", it,\n",
    "            \"| loss:\", loss.item(),\n",
    "            \"| policy_reward:\", policy_reward.item(),\n",
    "            \"| kl_div:\", kl_div.item(),\n",
    "            \"| advantages mean/std:\", advantages.mean().item(), advantages.std().item(),\n",
    "            \"| old_log_probs mean:\", old_log_probs.mean().item()\n",
    "        )\n",
    "        \n",
    "        optimizer.update(model, grads)\n",
    "        mx.eval(model.parameters(), optimizer.state)\n",
    "\n",
    "        losses.append(loss.item())\n",
    "        pbar.set_description(f\"Loss: {np.mean(losses[-10:]):.3f}, Mean Reward: {np.mean(all_rewards[-20:]):.3f}\")\n",
    "        \n",
    "        # Sync old model weights\n",
    "        if (it + 1) % update_every == 0:\n",
    "            model_old.update(model.parameters())\n",
    "            print(f\"\\nIter {it+1}: Synced old model weights.\")\n",
    "        \n",
    "       \n",
    "            \n",
    "    # Final save of adapter weights\n",
    "    model.save_weights(str(adapter_path / \"adapters.safetensors\"))\n",
    "    print(\"Saved final weights to adapters/adapters.safetensors.\")\n",
    "    return losses, all_rewards"
   ]
  },
  {
   "cell_type": "markdown",
   "id": "827d1590",
   "metadata": {},
   "source": [
    "Now we're ready to put it all together and actually train the model. We'll use `Adam` for the optimizer and run our custom GRPO loop."
   ]
  },
  {
   "cell_type": "code",
   "execution_count": 13,
   "id": "984516d3",
   "metadata": {
    "scrolled": true
   },
   "outputs": [
    {
     "name": "stdout",
     "output_type": "stream",
     "text": [
      "Starting GRPO training...\n"
     ]
    },
    {
     "name": "stderr",
     "output_type": "stream",
     "text": [
      "  0%|          | 0/100 [00:00<?, ?it/s]"
     ]
    },
    {
     "name": "stdout",
     "output_type": "stream",
     "text": [
      "Step: 0 | loss: 1.4901161193847656e-08 | policy_reward: -1.4901161193847656e-08 | kl_div: 0.0 | advantages mean/std: -1.4901161193847656e-08 0.5 | old_log_probs mean: -50.25\n"
     ]
    },
    {
     "name": "stderr",
     "output_type": "stream",
     "text": [
      "Loss: 0.000, Mean Reward: 0.400:   1%|          | 1/100 [02:04<3:24:55, 124.19s/it]"
     ]
    },
    {
     "name": "stdout",
     "output_type": "stream",
     "text": [
      "Step: 1 | loss: 0.02244529500603676 | policy_reward: -0.021862845867872238 | kl_div: 0.02911376953125 | advantages mean/std: -7.450580596923828e-09 1.0 | old_log_probs mean: -52.125\n"
     ]
    },
    {
     "name": "stderr",
     "output_type": "stream",
     "text": [
      "Loss: 0.011, Mean Reward: 0.800:   2%|▏         | 2/100 [04:15<3:29:40, 128.37s/it]"
     ]
    },
    {
     "name": "stdout",
     "output_type": "stream",
     "text": [
      "Step: 2 | loss: 0.008168293163180351 | policy_reward: -0.008060846477746964 | kl_div: 0.00537109375 | advantages mean/std: -2.2351741790771484e-08 0.7071067690849304 | old_log_probs mean: -53.375\n"
     ]
    },
    {
     "name": "stderr",
     "output_type": "stream",
     "text": [
      "Loss: 0.010, Mean Reward: 0.800:   3%|▎         | 3/100 [06:00<3:10:22, 117.76s/it]"
     ]
    },
    {
     "name": "stdout",
     "output_type": "stream",
     "text": [
      "Step: 3 | loss: 0.04242197424173355 | policy_reward: -0.041381608694791794 | kl_div: 0.052001953125 | advantages mean/std: -7.450580596923828e-09 0.8660253882408142 | old_log_probs mean: -49.625\n"
     ]
    },
    {
     "name": "stderr",
     "output_type": "stream",
     "text": [
      "Loss: 0.018, Mean Reward: 0.200:   4%|▍         | 4/100 [08:14<3:18:42, 124.20s/it]"
     ]
    },
    {
     "name": "stdout",
     "output_type": "stream",
     "text": [
      "Step: 4 | loss: -0.00015485286712646484 | policy_reward: 0.000629812479019165 | kl_div: 0.02374267578125 | advantages mean/std: 0.0 0.8660253882408142 | old_log_probs mean: -52.25\n"
     ]
    },
    {
     "name": "stderr",
     "output_type": "stream",
     "text": [
      "Loss: 0.015, Mean Reward: 0.450:   5%|▌         | 5/100 [10:00<3:06:03, 117.51s/it]"
     ]
    },
    {
     "name": "stdout",
     "output_type": "stream",
     "text": [
      "Step: 5 | loss: -0.007384579628705978 | policy_reward: 0.0076959505677223206 | kl_div: 0.01556396484375 | advantages mean/std: 0.0 0.7071067690849304 | old_log_probs mean: -50.96875\n"
     ]
    },
    {
     "name": "stderr",
     "output_type": "stream",
     "text": [
      "Loss: 0.011, Mean Reward: 0.050:   6%|▌         | 6/100 [11:49<2:59:25, 114.53s/it]"
     ]
    },
    {
     "name": "stdout",
     "output_type": "stream",
     "text": [
      "Step: 6 | loss: 0.01092461310327053 | policy_reward: -0.009285321459174156 | kl_div: 0.0819091796875 | advantages mean/std: 0.0 0.5 | old_log_probs mean: -49.75\n"
     ]
    },
    {
     "name": "stderr",
     "output_type": "stream",
     "text": [
      "Loss: 0.011, Mean Reward: 1.000:   7%|▋         | 7/100 [13:31<2:51:37, 110.72s/it]"
     ]
    },
    {
     "name": "stdout",
     "output_type": "stream",
     "text": [
      "Step: 7 | loss: 0.04396139085292816 | policy_reward: -0.03593100607395172 | kl_div: 0.4013671875 | advantages mean/std: -3.725290298461914e-09 0.4999999701976776 | old_log_probs mean: -49.8125\n"
     ]
    },
    {
     "name": "stderr",
     "output_type": "stream",
     "text": [
      "Loss: 0.015, Mean Reward: 0.600:   8%|▊         | 8/100 [15:23<2:50:23, 111.13s/it]"
     ]
    },
    {
     "name": "stdout",
     "output_type": "stream",
     "text": [
      "Step: 8 | loss: 0.044639475643634796 | policy_reward: -0.04163483530282974 | kl_div: 0.150146484375 | advantages mean/std: -2.2351741790771484e-08 0.8660253882408142 | old_log_probs mean: -46.65625\n"
     ]
    },
    {
     "name": "stderr",
     "output_type": "stream",
     "text": [
      "Loss: 0.018, Mean Reward: 0.950:   9%|▉         | 9/100 [17:30<2:55:56, 116.01s/it]"
     ]
    },
    {
     "name": "stdout",
     "output_type": "stream",
     "text": [
      "Step: 9 | loss: 0.03700254485011101 | policy_reward: -0.03292011097073555 | kl_div: 0.2041015625 | advantages mean/std: 0.0 1.0 | old_log_probs mean: -45.84375\n"
     ]
    },
    {
     "name": "stderr",
     "output_type": "stream",
     "text": [
      "Loss: 0.020, Mean Reward: 0.550:  10%|█         | 10/100 [19:55<3:07:19, 124.89s/it]"
     ]
    },
    {
     "name": "stdout",
     "output_type": "stream",
     "text": [
      "\n",
      "Iter 10: Synced old model weights.\n",
      "Step: 10 | loss: 0.005355231463909149 | policy_reward: 0.0 | kl_div: 0.267822265625 | advantages mean/std: 0.0 0.866025447845459 | old_log_probs mean: -52.71875\n"
     ]
    },
    {
     "name": "stderr",
     "output_type": "stream",
     "text": [
      "Loss: 0.021, Mean Reward: 0.300:  11%|█         | 11/100 [21:52<3:01:35, 122.42s/it]"
     ]
    },
    {
     "name": "stdout",
     "output_type": "stream",
     "text": [
      "Step: 11 | loss: 0.01595713570713997 | policy_reward: -0.01381586492061615 | kl_div: 0.10699462890625 | advantages mean/std: 0.0 0.8660253882408142 | old_log_probs mean: -48.40625\n"
     ]
    },
    {
     "name": "stderr",
     "output_type": "stream",
     "text": [
      "Loss: 0.020, Mean Reward: 0.600:  12%|█▏        | 12/100 [23:49<2:57:24, 120.96s/it]"
     ]
    },
    {
     "name": "stdout",
     "output_type": "stream",
     "text": [
      "Step: 12 | loss: 0.017301730811595917 | policy_reward: -0.015593104064464569 | kl_div: 0.08544921875 | advantages mean/std: 1.4901161193847656e-08 0.7071067690849304 | old_log_probs mean: -52.46875\n"
     ]
    },
    {
     "name": "stderr",
     "output_type": "stream",
     "text": [
      "Loss: 0.021, Mean Reward: 0.100:  13%|█▎        | 13/100 [25:55<2:57:14, 122.23s/it]"
     ]
    },
    {
     "name": "stdout",
     "output_type": "stream",
     "text": [
      "Step: 13 | loss: -0.013886742293834686 | policy_reward: 0.016538575291633606 | kl_div: 0.132568359375 | advantages mean/std: 0.0 0.8660253882408142 | old_log_probs mean: -45.6875\n"
     ]
    },
    {
     "name": "stderr",
     "output_type": "stream",
     "text": [
      "Loss: 0.015, Mean Reward: 0.500:  14%|█▍        | 14/100 [28:17<3:04:06, 128.44s/it]"
     ]
    },
    {
     "name": "stdout",
     "output_type": "stream",
     "text": [
      "Step: 14 | loss: -0.006097566336393356 | policy_reward: 0.008174072951078415 | kl_div: 0.103759765625 | advantages mean/std: 7.450580596923828e-09 0.7071067690849304 | old_log_probs mean: -52.625\n"
     ]
    },
    {
     "name": "stderr",
     "output_type": "stream",
     "text": [
      "Loss: 0.015, Mean Reward: 0.550:  15%|█▌        | 15/100 [30:40<3:08:13, 132.86s/it]"
     ]
    },
    {
     "name": "stdout",
     "output_type": "stream",
     "text": [
      "Step: 15 | loss: 0.062300000339746475 | policy_reward: -0.05868425592780113 | kl_div: 0.1807861328125 | advantages mean/std: -1.1175870895385742e-08 0.8660253882408142 | old_log_probs mean: -50.25\n"
     ]
    },
    {
     "name": "stderr",
     "output_type": "stream",
     "text": [
      "Loss: 0.022, Mean Reward: 0.400:  16%|█▌        | 16/100 [32:37<2:58:57, 127.83s/it]"
     ]
    },
    {
     "name": "stdout",
     "output_type": "stream",
     "text": [
      "Step: 16 | loss: 0.051812268793582916 | policy_reward: -0.04781787469983101 | kl_div: 0.19970703125 | advantages mean/std: 0.0 0.8660253882408142 | old_log_probs mean: -50.375\n"
     ]
    },
    {
     "name": "stderr",
     "output_type": "stream",
     "text": [
      "Loss: 0.026, Mean Reward: 0.600:  17%|█▋        | 17/100 [35:09<3:07:11, 135.32s/it]"
     ]
    },
    {
     "name": "stdout",
     "output_type": "stream",
     "text": [
      "Step: 17 | loss: 0.0012070666998624802 | policy_reward: 0.004652397707104683 | kl_div: 0.29296875 | advantages mean/std: 0.0 0.8660253882408142 | old_log_probs mean: -51.71875\n"
     ]
    },
    {
     "name": "stderr",
     "output_type": "stream",
     "text": [
      "Loss: 0.022, Mean Reward: 0.450:  18%|█▊        | 18/100 [37:32<3:08:05, 137.63s/it]"
     ]
    },
    {
     "name": "stdout",
     "output_type": "stream",
     "text": [
      "Step: 18 | loss: 0.009330973029136658 | policy_reward: -0.004373468458652496 | kl_div: 0.247802734375 | advantages mean/std: -3.725290298461914e-09 0.8660253882408142 | old_log_probs mean: -54.875\n"
     ]
    },
    {
     "name": "stderr",
     "output_type": "stream",
     "text": [
      "Loss: 0.018, Mean Reward: 0.700:  19%|█▉        | 19/100 [39:41<3:02:10, 134.94s/it]"
     ]
    },
    {
     "name": "stdout",
     "output_type": "stream",
     "text": [
      "Step: 19 | loss: 0.033952753990888596 | policy_reward: -0.025646742433309555 | kl_div: 0.4150390625 | advantages mean/std: 1.4901161193847656e-08 1.0 | old_log_probs mean: -55.25\n"
     ]
    },
    {
     "name": "stderr",
     "output_type": "stream",
     "text": [
      "Loss: 0.018, Mean Reward: 0.550:  20%|██        | 20/100 [41:38<2:52:48, 129.61s/it]"
     ]
    },
    {
     "name": "stdout",
     "output_type": "stream",
     "text": [
      "\n",
      "Iter 20: Synced old model weights.\n",
      "Step: 20 | loss: 0.020538385957479477 | policy_reward: 3.725290298461914e-09 | kl_div: 1.0263671875 | advantages mean/std: 3.725290298461914e-09 0.8660253882408142 | old_log_probs mean: -52.625\n"
     ]
    },
    {
     "name": "stderr",
     "output_type": "stream",
     "text": [
      "Loss: 0.019, Mean Reward: 0.850:  21%|██        | 21/100 [44:15<3:01:27, 137.82s/it]"
     ]
    },
    {
     "name": "stdout",
     "output_type": "stream",
     "text": [
      "Step: 21 | loss: 0.014218434691429138 | policy_reward: -0.0015917569398880005 | kl_div: 0.630859375 | advantages mean/std: 0.0 0.866025447845459 | old_log_probs mean: -53.5\n"
     ]
    },
    {
     "name": "stderr",
     "output_type": "stream",
     "text": [
      "Loss: 0.019, Mean Reward: 0.550:  22%|██▏       | 22/100 [46:15<2:52:06, 132.39s/it]"
     ]
    },
    {
     "name": "stdout",
     "output_type": "stream",
     "text": [
      "Step: 22 | loss: -0.0026759151369333267 | policy_reward: 0.008791791275143623 | kl_div: 0.3056640625 | advantages mean/std: -7.450580596923828e-09 0.7071067690849304 | old_log_probs mean: -51.84375\n"
     ]
    },
    {
     "name": "stderr",
     "output_type": "stream",
     "text": [
      "Loss: 0.017, Mean Reward: 0.900:  23%|██▎       | 23/100 [48:55<2:43:47, 127.63s/it]\n"
     ]
    },
    {
     "ename": "KeyboardInterrupt",
     "evalue": "",
     "output_type": "error",
     "traceback": [
      "\u001b[31m---------------------------------------------------------------------------\u001b[39m",
      "\u001b[31mKeyboardInterrupt\u001b[39m                         Traceback (most recent call last)",
      "\u001b[36mCell\u001b[39m\u001b[36m \u001b[39m\u001b[32mIn[13]\u001b[39m\u001b[32m, line 21\u001b[39m\n\u001b[32m     18\u001b[39m start_time = time.time()\n\u001b[32m     20\u001b[39m \u001b[38;5;66;03m# Run the custom GRPO training loop\u001b[39;00m\n\u001b[32m---> \u001b[39m\u001b[32m21\u001b[39m losses, rewards = \u001b[43mgrpo_train_loop\u001b[49m\u001b[43m(\u001b[49m\n\u001b[32m     22\u001b[39m \u001b[43m    \u001b[49m\u001b[43mmodel\u001b[49m\u001b[43m=\u001b[49m\u001b[43mmodel\u001b[49m\u001b[43m,\u001b[49m\n\u001b[32m     23\u001b[39m \u001b[43m    \u001b[49m\u001b[43mmodel_old\u001b[49m\u001b[43m=\u001b[49m\u001b[43mmodel_old\u001b[49m\u001b[43m,\u001b[49m\n\u001b[32m     24\u001b[39m \u001b[43m    \u001b[49m\u001b[43mmodel_ref\u001b[49m\u001b[43m=\u001b[49m\u001b[43mmodel_ref\u001b[49m\u001b[43m,\u001b[49m\n\u001b[32m     25\u001b[39m \u001b[43m    \u001b[49m\u001b[43mtokenizer\u001b[49m\u001b[43m=\u001b[49m\u001b[43mtokenizer\u001b[49m\u001b[43m,\u001b[49m\n\u001b[32m     26\u001b[39m \u001b[43m    \u001b[49m\u001b[43moptimizer\u001b[49m\u001b[43m=\u001b[49m\u001b[43mopt\u001b[49m\u001b[43m,\u001b[49m\n\u001b[32m     27\u001b[39m \u001b[43m    \u001b[49m\u001b[43mtrain_set\u001b[49m\u001b[43m=\u001b[49m\u001b[43mtrain_set\u001b[49m\u001b[43m,\u001b[49m\n\u001b[32m     28\u001b[39m \u001b[43m    \u001b[49m\u001b[43msampler\u001b[49m\u001b[43m=\u001b[49m\u001b[43msampler\u001b[49m\u001b[43m,\u001b[49m\n\u001b[32m     29\u001b[39m \u001b[43m    \u001b[49m\u001b[43miters\u001b[49m\u001b[43m=\u001b[49m\u001b[43miters\u001b[49m\u001b[43m,\u001b[49m\n\u001b[32m     30\u001b[39m \u001b[43m    \u001b[49m\u001b[43mgroup_size\u001b[49m\u001b[43m=\u001b[49m\u001b[43mgroup_size\u001b[49m\u001b[43m,\u001b[49m\n\u001b[32m     31\u001b[39m \u001b[43m    \u001b[49m\u001b[43mbatch_size\u001b[49m\u001b[43m=\u001b[49m\u001b[43mbatch_size\u001b[49m\u001b[43m,\u001b[49m\n\u001b[32m     32\u001b[39m \u001b[43m    \u001b[49m\u001b[43mepsilon\u001b[49m\u001b[43m=\u001b[49m\u001b[43mepsilon\u001b[49m\u001b[43m,\u001b[49m\n\u001b[32m     33\u001b[39m \u001b[43m    \u001b[49m\u001b[43mbeta\u001b[49m\u001b[43m=\u001b[49m\u001b[43mbeta\u001b[49m\u001b[43m,\u001b[49m\n\u001b[32m     34\u001b[39m \u001b[43m    \u001b[49m\u001b[43mupdate_every\u001b[49m\u001b[43m=\u001b[49m\u001b[43mupdate_every\u001b[49m\u001b[43m,\u001b[49m\n\u001b[32m     35\u001b[39m \u001b[43m    \u001b[49m\u001b[43mmax_ans_len\u001b[49m\u001b[43m=\u001b[49m\u001b[43mmax_ans_len\u001b[49m\n\u001b[32m     36\u001b[39m \u001b[43m)\u001b[49m\n\u001b[32m     38\u001b[39m end_time = time.time()\n\u001b[32m     39\u001b[39m \u001b[38;5;28mprint\u001b[39m(\u001b[33mf\u001b[39m\u001b[33m\"\u001b[39m\u001b[33mTraining finished in \u001b[39m\u001b[38;5;132;01m{\u001b[39;00mend_time\u001b[38;5;250m \u001b[39m-\u001b[38;5;250m \u001b[39mstart_time\u001b[38;5;132;01m:\u001b[39;00m\u001b[33m.2f\u001b[39m\u001b[38;5;132;01m}\u001b[39;00m\u001b[33ms\u001b[39m\u001b[33m\"\u001b[39m)\n",
      "\u001b[36mCell\u001b[39m\u001b[36m \u001b[39m\u001b[32mIn[12]\u001b[39m\u001b[32m, line 43\u001b[39m, in \u001b[36mgrpo_train_loop\u001b[39m\u001b[34m(model, model_old, model_ref, tokenizer, optimizer, train_set, sampler, iters, group_size, batch_size, epsilon, beta, update_every, max_ans_len)\u001b[39m\n\u001b[32m     39\u001b[39m group_rewards = []\n\u001b[32m     41\u001b[39m \u001b[38;5;28;01mfor\u001b[39;00m _ \u001b[38;5;129;01min\u001b[39;00m \u001b[38;5;28mrange\u001b[39m(group_size):\n\u001b[32m     42\u001b[39m     \u001b[38;5;66;03m# Generate a response\u001b[39;00m\n\u001b[32m---> \u001b[39m\u001b[32m43\u001b[39m     response = \u001b[43mgenerate\u001b[49m\u001b[43m(\u001b[49m\u001b[43mmodel_old\u001b[49m\u001b[43m,\u001b[49m\u001b[43m \u001b[49m\u001b[43mtokenizer\u001b[49m\u001b[43m,\u001b[49m\u001b[43m \u001b[49m\u001b[43mprompt_tokens\u001b[49m\u001b[43m,\u001b[49m\u001b[43m \u001b[49m\u001b[43mmax_tokens\u001b[49m\u001b[43m=\u001b[49m\u001b[43mmax_ans_len\u001b[49m\u001b[43m,\u001b[49m\u001b[43m \u001b[49m\u001b[43msampler\u001b[49m\u001b[43m=\u001b[49m\u001b[43msampler\u001b[49m\u001b[43m)\u001b[49m\n\u001b[32m     44\u001b[39m     answer_tokens = tokenizer.encode(response, add_special_tokens=\u001b[38;5;28;01mFalse\u001b[39;00m)\n\u001b[32m     45\u001b[39m     \u001b[38;5;66;03m#print(\"Response:\", response)\u001b[39;00m\n\u001b[32m     46\u001b[39m     \u001b[38;5;66;03m#print(\"Correct answer:\", batch_answers[i])\u001b[39;00m\n\u001b[32m     47\u001b[39m     \u001b[38;5;66;03m# 3. Get Reward\u001b[39;00m\n",
      "\u001b[36mFile \u001b[39m\u001b[32m~/anaconda3/envs/gptoss20b-finetuning-mlx/lib/python3.12/site-packages/mlx_lm/generate.py:761\u001b[39m, in \u001b[36mgenerate\u001b[39m\u001b[34m(model, tokenizer, prompt, verbose, **kwargs)\u001b[39m\n\u001b[32m    758\u001b[39m     \u001b[38;5;28mprint\u001b[39m(\u001b[33m\"\u001b[39m\u001b[33m=\u001b[39m\u001b[33m\"\u001b[39m * \u001b[32m10\u001b[39m)\n\u001b[32m    760\u001b[39m text = \u001b[33m\"\u001b[39m\u001b[33m\"\u001b[39m\n\u001b[32m--> \u001b[39m\u001b[32m761\u001b[39m \u001b[43m\u001b[49m\u001b[38;5;28;43;01mfor\u001b[39;49;00m\u001b[43m \u001b[49m\u001b[43mresponse\u001b[49m\u001b[43m \u001b[49m\u001b[38;5;129;43;01min\u001b[39;49;00m\u001b[43m \u001b[49m\u001b[43mstream_generate\u001b[49m\u001b[43m(\u001b[49m\u001b[43mmodel\u001b[49m\u001b[43m,\u001b[49m\u001b[43m \u001b[49m\u001b[43mtokenizer\u001b[49m\u001b[43m,\u001b[49m\u001b[43m \u001b[49m\u001b[43mprompt\u001b[49m\u001b[43m,\u001b[49m\u001b[43m \u001b[49m\u001b[43m*\u001b[49m\u001b[43m*\u001b[49m\u001b[43mkwargs\u001b[49m\u001b[43m)\u001b[49m\u001b[43m:\u001b[49m\n\u001b[32m    762\u001b[39m \u001b[43m    \u001b[49m\u001b[38;5;28;43;01mif\u001b[39;49;00m\u001b[43m \u001b[49m\u001b[43mverbose\u001b[49m\u001b[43m:\u001b[49m\n\u001b[32m    763\u001b[39m \u001b[43m        \u001b[49m\u001b[38;5;28;43mprint\u001b[39;49m\u001b[43m(\u001b[49m\u001b[43mresponse\u001b[49m\u001b[43m.\u001b[49m\u001b[43mtext\u001b[49m\u001b[43m,\u001b[49m\u001b[43m \u001b[49m\u001b[43mend\u001b[49m\u001b[43m=\u001b[49m\u001b[33;43m\"\u001b[39;49m\u001b[33;43m\"\u001b[39;49m\u001b[43m,\u001b[49m\u001b[43m \u001b[49m\u001b[43mflush\u001b[49m\u001b[43m=\u001b[49m\u001b[38;5;28;43;01mTrue\u001b[39;49;00m\u001b[43m)\u001b[49m\n",
      "\u001b[36mFile \u001b[39m\u001b[32m~/anaconda3/envs/gptoss20b-finetuning-mlx/lib/python3.12/site-packages/mlx_lm/generate.py:698\u001b[39m, in \u001b[36mstream_generate\u001b[39m\u001b[34m(model, tokenizer, prompt, max_tokens, draft_model, **kwargs)\u001b[39m\n\u001b[32m    696\u001b[39m \u001b[38;5;28;01mwith\u001b[39;00m wired_limit(model, [generation_stream]):\n\u001b[32m    697\u001b[39m     tic = time.perf_counter()\n\u001b[32m--> \u001b[39m\u001b[32m698\u001b[39m \u001b[43m    \u001b[49m\u001b[38;5;28;43;01mfor\u001b[39;49;00m\u001b[43m \u001b[49m\u001b[43mn\u001b[49m\u001b[43m,\u001b[49m\u001b[43m \u001b[49m\u001b[43m(\u001b[49m\u001b[43mtoken\u001b[49m\u001b[43m,\u001b[49m\u001b[43m \u001b[49m\u001b[43mlogprobs\u001b[49m\u001b[43m,\u001b[49m\u001b[43m \u001b[49m\u001b[43mfrom_draft\u001b[49m\u001b[43m)\u001b[49m\u001b[43m \u001b[49m\u001b[38;5;129;43;01min\u001b[39;49;00m\u001b[43m \u001b[49m\u001b[38;5;28;43menumerate\u001b[39;49m\u001b[43m(\u001b[49m\u001b[43mtoken_generator\u001b[49m\u001b[43m)\u001b[49m\u001b[43m:\u001b[49m\n\u001b[32m    699\u001b[39m \u001b[43m        \u001b[49m\u001b[38;5;28;43;01mif\u001b[39;49;00m\u001b[43m \u001b[49m\u001b[43mn\u001b[49m\u001b[43m \u001b[49m\u001b[43m==\u001b[49m\u001b[43m \u001b[49m\u001b[32;43m0\u001b[39;49m\u001b[43m:\u001b[49m\n\u001b[32m    700\u001b[39m \u001b[43m            \u001b[49m\u001b[43mprompt_time\u001b[49m\u001b[43m \u001b[49m\u001b[43m=\u001b[49m\u001b[43m \u001b[49m\u001b[43mtime\u001b[49m\u001b[43m.\u001b[49m\u001b[43mperf_counter\u001b[49m\u001b[43m(\u001b[49m\u001b[43m)\u001b[49m\u001b[43m \u001b[49m\u001b[43m-\u001b[49m\u001b[43m \u001b[49m\u001b[43mtic\u001b[49m\n",
      "\u001b[36mFile \u001b[39m\u001b[32m~/anaconda3/envs/gptoss20b-finetuning-mlx/lib/python3.12/site-packages/mlx_lm/generate.py:688\u001b[39m, in \u001b[36m<genexpr>\u001b[39m\u001b[34m(.0)\u001b[39m\n\u001b[32m    685\u001b[39m     token_generator = generate_step(prompt, model, **kwargs)\n\u001b[32m    686\u001b[39m     \u001b[38;5;66;03m# from_draft always false for non-speculative generation\u001b[39;00m\n\u001b[32m    687\u001b[39m     token_generator = \u001b[43m(\u001b[49m\n\u001b[32m--> \u001b[39m\u001b[32m688\u001b[39m \u001b[43m        \u001b[49m\u001b[43m(\u001b[49m\u001b[43mtoken\u001b[49m\u001b[43m,\u001b[49m\u001b[43m \u001b[49m\u001b[43mlogprobs\u001b[49m\u001b[43m,\u001b[49m\u001b[43m \u001b[49m\u001b[38;5;28;43;01mFalse\u001b[39;49;00m\u001b[43m)\u001b[49m\u001b[43m \u001b[49m\u001b[38;5;28;43;01mfor\u001b[39;49;00m\u001b[43m \u001b[49m\u001b[43mtoken\u001b[49m\u001b[43m,\u001b[49m\u001b[43m \u001b[49m\u001b[43mlogprobs\u001b[49m\u001b[43m \u001b[49m\u001b[38;5;129;43;01min\u001b[39;49;00m\u001b[43m \u001b[49m\u001b[43mtoken_generator\u001b[49m\n\u001b[32m    689\u001b[39m \u001b[43m    \u001b[49m\u001b[43m)\u001b[49m\n\u001b[32m    690\u001b[39m \u001b[38;5;28;01melse\u001b[39;00m:\n\u001b[32m    691\u001b[39m     kwargs.pop(\u001b[33m\"\u001b[39m\u001b[33mmax_kv_size\u001b[39m\u001b[33m\"\u001b[39m, \u001b[38;5;28;01mNone\u001b[39;00m)\n",
      "\u001b[36mFile \u001b[39m\u001b[32m~/anaconda3/envs/gptoss20b-finetuning-mlx/lib/python3.12/site-packages/mlx_lm/generate.py:433\u001b[39m, in \u001b[36mgenerate_step\u001b[39m\u001b[34m(prompt, model, max_tokens, sampler, logits_processors, max_kv_size, prompt_cache, prefill_step_size, kv_bits, kv_group_size, quantized_kv_start, prompt_progress_callback, input_embeddings)\u001b[39m\n\u001b[32m    424\u001b[39m _model_call(\n\u001b[32m    425\u001b[39m     input_tokens=prompt[:n_to_process][\u001b[38;5;28;01mNone\u001b[39;00m],\n\u001b[32m    426\u001b[39m     input_embeddings=(\n\u001b[32m   (...)\u001b[39m\u001b[32m    430\u001b[39m     ),\n\u001b[32m    431\u001b[39m )\n\u001b[32m    432\u001b[39m quantize_cache_fn(prompt_cache)\n\u001b[32m--> \u001b[39m\u001b[32m433\u001b[39m \u001b[43mmx\u001b[49m\u001b[43m.\u001b[49m\u001b[43meval\u001b[49m\u001b[43m(\u001b[49m\u001b[43m[\u001b[49m\u001b[43mc\u001b[49m\u001b[43m.\u001b[49m\u001b[43mstate\u001b[49m\u001b[43m \u001b[49m\u001b[38;5;28;43;01mfor\u001b[39;49;00m\u001b[43m \u001b[49m\u001b[43mc\u001b[49m\u001b[43m \u001b[49m\u001b[38;5;129;43;01min\u001b[39;49;00m\u001b[43m \u001b[49m\u001b[43mprompt_cache\u001b[49m\u001b[43m]\u001b[49m\u001b[43m)\u001b[49m\n\u001b[32m    434\u001b[39m prompt_processed_tokens += n_to_process\n\u001b[32m    435\u001b[39m prompt_progress_callback(prompt_processed_tokens, total_prompt_tokens)\n",
      "\u001b[31mKeyboardInterrupt\u001b[39m: "
     ]
    }
   ],
   "source": [
    "# GRPO Hyperparameters\n",
    "learning_rate = 1e-5\n",
    "iters = 100\n",
    "group_size = 8      # G in the paper, number of responses per prompt\n",
    "batch_size = 4      # Number of prompts per iteration\n",
    "epsilon = 0.2       # PPO clip parameter\n",
    "beta = 0.02         # KL penalty coefficient\n",
    "update_every = 10   # Sync model_old every N iterations\n",
    "max_ans_len = 4     # Max tokens to generate for an answer\n",
    "sampler = make_sampler(temp=0.7, top_p=0.9)\n",
    "# Put the model in training mode:\n",
    "model.train()\n",
    "\n",
    "# Make the optimizer:\n",
    "opt = optim.Adam(learning_rate=learning_rate)\n",
    "\n",
    "print(\"Starting GRPO training...\")\n",
    "start_time = time.time()\n",
    "\n",
    "# Run the custom GRPO training loop\n",
    "losses, rewards = grpo_train_loop(\n",
    "    model=model,\n",
    "    model_old=model_old,\n",
    "    model_ref=model_ref,\n",
    "    tokenizer=tokenizer,\n",
    "    optimizer=opt,\n",
    "    train_set=train_set,\n",
    "    sampler=sampler,\n",
    "    iters=iters,\n",
    "    group_size=group_size,\n",
    "    batch_size=batch_size,\n",
    "    epsilon=epsilon,\n",
    "    beta=beta,\n",
    "    update_every=update_every,\n",
    "    max_ans_len=max_ans_len\n",
    ")\n",
    "\n",
    "end_time = time.time()\n",
    "print(f\"Training finished in {end_time - start_time:.2f}s\")"
   ]
  },
  {
   "cell_type": "markdown",
   "id": "b8d043b8",
   "metadata": {},
   "source": [
    "The adapters are saved at the end of training in `adapters.safetensors`."
   ]
  },
  {
   "cell_type": "code",
   "execution_count": 36,
   "id": "ac329358",
   "metadata": {},
   "outputs": [
    {
     "name": "stdout",
     "output_type": "stream",
     "text": [
      "adapter_config.json  adapters.safetensors\n"
     ]
    }
   ],
   "source": [
    "!ls {adapter_path}/"
   ]
  },
  {
   "cell_type": "markdown",
   "id": "2b7e23ee",
   "metadata": {},
   "source": [
    "Next, let's plot the training loss and the moving average of the rewards to see how well the model learned."
   ]
  },
  {
   "cell_type": "code",
   "execution_count": 12,
   "id": "f1ffd638",
   "metadata": {},
   "outputs": [
    {
     "data": {
      "image/png": "[encoded data removed]",
      "text/plain": [
       "<Figure size 640x480 with 2 Axes>"
      ]
     },
     "metadata": {},
     "output_type": "display_data"
    }
   ],
   "source": [
    "def moving_average(a, n=10) :\n",
    "    ret = np.cumsum(a, dtype=float)\n",
    "    ret[n:] = ret[n:] - ret[:-n]\n",
    "    return ret[n - 1:] / n\n",
    "\n",
    "fig, ax1 = plt.subplots()\n",
    "\n",
    "color = 'tab:red'\n",
    "ax1.set_xlabel('Iteration')\n",
    "ax1.set_ylabel('GRPO Loss', color=color)\n",
    "ax1.plot(losses, color=color)\n",
    "ax1.tick_params(axis='y', labelcolor=color)\n",
    "\n",
    "ax2 = ax1.twinx()  # instantiate a second axes that shares the same x-axis\n",
    "color = 'tab:blue'\n",
    "ax2.set_ylabel('Reward (Moving Avg)', color=color)\n",
    "ax2.plot(moving_average(rewards, n=50), color=color)\n",
    "ax2.tick_params(axis='y', labelcolor=color)\n",
    "\n",
    "fig.tight_layout()\n",
    "plt.title(\"GRPO Training Loss and Reward\")\n",
    "plt.show();"
   ]
  },
  {
   "cell_type": "markdown",
   "id": "b28f216c",
   "metadata": {},
   "source": [
    "### Evaluate\n",
    "\n",
    "The training and validation loss are only part of the story. For HellaSwag, we ultimately care about how good the model is at answering questions. To asses this, let's generate the actual `ending1`, `ending2`, `ending3`, or `ending4` responses with the fine-tuned model and measure the accuracy.\n",
    "\n",
    "First, let's split the last word off of each output in the test set to create a prompt without the answer."
   ]
  },
  {
   "cell_type": "code",
   "execution_count": 17,
   "id": "d96e4dcf",
   "metadata": {},
   "outputs": [],
   "source": [
    "test_set_eval = [(t[\"instruction\"], *t[\"output\"].rsplit(\" \", maxsplit=1)) for t in test_set]"
   ]
  },
  {
   "cell_type": "code",
   "execution_count": 18,
   "id": "08cefea4",
   "metadata": {},
   "outputs": [
    {
     "data": {
      "text/plain": [
       "{'instruction': 'Please choose the correct ending to complete the given sentence: Clean and jerk: A lady walks to a barbell. She bends down and grabs the pole. the lady\\n\\nEnding1: swings and lands in her arms. Ending2: pulls the barbell forward. Ending3: pulls a rope attached to the barbell. Ending4: stands and lifts the weight over her head.\\n\\nAnswer format: ending1/ending2/ending3/ending4',\n",
       " 'input': '',\n",
       " 'output': 'the correct answer is ending4',\n",
       " 'answer': 'ending4'}"
      ]
     },
     "execution_count": 18,
     "metadata": {},
     "output_type": "execute_result"
    }
   ],
   "source": [
    "test_set[1]"
   ]
  },
  {
   "cell_type": "markdown",
   "id": "8becd26a",
   "metadata": {},
   "source": [
    "Next, we'll generate the response for each example in the test set and compare it to the ground-truth answer to measure the accuracy."
   ]
  },
  {
   "cell_type": "code",
   "execution_count": 19,
   "id": "b396980a",
   "metadata": {},
   "outputs": [],
   "source": [
    "def evaluate(model, tokenizer, num_test):\n",
    "    num_correct = 0\n",
    "    for prompt, completion, answer in tqdm.tqdm(test_set_eval[:num_test]):\n",
    "        messages = [\n",
    "            {\"role\": \"user\", \"content\": prompt},\n",
    "            {\"role\": \"assistant\", \"content\": completion}\n",
    "        ]\n",
    "        # Use greedy decoding for evaluation\n",
    "        response = generate(model, tokenizer, prompt=messages, max_tokens=4, temp=0.0)\n",
    "        num_correct += (answer in response)\n",
    "    return num_correct / num_test"
   ]
  },
  {
   "cell_type": "code",
   "execution_count": 33,
   "id": "09061431",
   "metadata": {},
   "outputs": [],
   "source": [
    "def evaluate(model, tokenizer, num_test):\n",
    "    num_correct = 0\n",
    "    for prompt, completion, answer in tqdm.tqdm(test_set_eval[:num_test]):\n",
    "        # Convert chat-like messages into a plain text prompt\n",
    "        prompt_text = f\"User: {prompt}\\nAssistant:\"\n",
    "\n",
    "        # Use greedy decoding for deterministic output\n",
    "        response = generate(\n",
    "            model,\n",
    "            tokenizer,\n",
    "            prompt=prompt_text,\n",
    "            max_tokens=10\n",
    "        )\n",
    "\n",
    "        # Normalize and compare\n",
    "        response_text = response.strip().lower()\n",
    "        if answer.lower() in response_text:\n",
    "            num_correct += 1\n",
    "\n",
    "    return num_correct / num_test\n"
   ]
  },
  {
   "cell_type": "code",
   "execution_count": 34,
   "id": "4cbc00b3",
   "metadata": {},
   "outputs": [
    {
     "name": "stderr",
     "output_type": "stream",
     "text": [
      "100%|██████████| 100/100 [00:58<00:00,  1.71it/s]"
     ]
    },
    {
     "name": "stdout",
     "output_type": "stream",
     "text": [
      "Approximate test accuracy 0.790\n"
     ]
    },
    {
     "name": "stderr",
     "output_type": "stream",
     "text": [
      "\n"
     ]
    }
   ],
   "source": [
    "# Put model in eval mode for evaluation\n",
    "model.eval()\n",
    "\n",
    "# Increase this number to use more test examples\n",
    "num_test = 100\n",
    "test_acc = evaluate(model, tokenizer, num_test)\n",
    "print(f\"Approximate test accuracy {test_acc:.3f}\")"
   ]
  },
  {
   "cell_type": "markdown",
   "id": "67fbba7f",
   "metadata": {},
   "source": [
    "### Fuse Adapters\n",
    "\n",
    "Sometimes its convenient to fuse the adapters into the base model to create a single adapted model. MLX LM has a fuse script just for that.\n",
    "\n",
    "To see more options for fusing the model, including how to upload to HuggingFace [check the documentation](https://github.com/ml-explore/mlx-examples/blob/main/llms/mlx_lm/LORA.md#fuse)."
   ]
  },
  {
   "cell_type": "code",
   "execution_count": null,
   "id": "37854c9b",
   "metadata": {},
   "outputs": [
    {
     "name": "stdout",
     "output_type": "stream",
     "text": [
      "Loading pretrained model\n",
      "Fetching 9 files: 100%|███████████████████████| 9/9 [00:00<00:00, 127100.12it/s]\n",
      "Traceback (most recent call last):\n",
      "  File \"/Users/dariomelle/anaconda3/envs/gptoss20b-finetuning-mlx/bin/mlx_lm.fuse\", line 7, in <module>\n",
      "    sys.exit(main())\n",
      "             ^^^^^^\n",
      "  File \"/Users/dariomelle/anaconda3/envs/gptoss20b-finetuning-mlx/lib/python3.12/site-packages/mlx_lm/fuse.py\", line 99, in main\n",
      "    raise ValueError(\n",
      "ValueError: Model type phi3 not supported for GGUF conversion.\n"
     ]
    }
   ],
   "source": [
    "!mlx_lm.fuse --model {model_path} --adapter-path {adapter_path} --save-path {\"fused_model_GRPO\"}"
   ]
  },
  {
   "cell_type": "markdown",
   "id": "c349707e",
   "metadata": {},
   "source": [
    "Once the adapters are fused, we can rerun the evaluation using the fused model to make sure it worked. By default the fused model will be saved to `fused_model`."
   ]
  },
  {
   "cell_type": "code",
   "execution_count": null,
   "id": "553f72a5",
   "metadata": {},
   "outputs": [],
   "source": [
    "model_fused, tokenizer_fused = load(\"fused_model_GRPO\")"
   ]
  },
  {
   "cell_type": "code",
   "execution_count": 35,
   "id": "c1c45e3a",
   "metadata": {},
   "outputs": [
    {
     "name": "stderr",
     "output_type": "stream",
     "text": [
      "100%|██████████| 100/100 [00:57<00:00,  1.73it/s]"
     ]
    },
    {
     "name": "stdout",
     "output_type": "stream",
     "text": [
      "Approximate fused model test accuracy 0.790\n"
     ]
    },
    {
     "name": "stderr",
     "output_type": "stream",
     "text": [
      "\n"
     ]
    }
   ],
   "source": [
    "\n",
    "test_acc_fused = evaluate(model_fused, tokenizer_fused, num_test)\n",
    "print(f\"Approximate fused model test accuracy {test_acc_fused:.3f}\")\n"
   ]
  },
  {
   "cell_type": "markdown",
   "id": "d0dc7f4c",
   "metadata": {},
   "source": [
    "### Troubleshooting\n",
    "\n",
    "#### Results\n",
    "\n",
    "To figure out why your GRPO fine-tuning is not working well, it's critical to plot both the loss and the average reward. \n",
    "\n",
    "**Underfitting**: The average reward is not increasing significantly and remains low. The loss may be stagnant or decreasing very slowly. This means the model isn't learning the desired behavior. You have a few options to improve the results:\n",
    "\n",
    "- **Increase the learning rate**: A higher learning rate might be needed to escape local minima.\n",
    "- **Increase `group_size` (G)**: A larger group provides a more stable estimate of the advantage, which can improve the quality of the gradients.\n",
    "- **Tune the KL penalty `beta`**: If `beta` is too high, it will prevent the model from learning, acting as an overly strong regularizer. Try decreasing it.\n",
    "- **Increase adapter capacity**: Use more `lora_layers` or a higher `rank`.\n",
    "- **Check your reward function**: Ensure the reward accurately reflects the desired outcome. For simple tasks like this, it's straightforward, but for complex tasks, this is often a source of error.\n",
    "\n",
    "**Overfitting/Instability**: The reward increases initially but then crashes, or the loss fluctuates wildly. This means the policy updates are too large and are destabilizing the model.\n",
    "\n",
    "- **Decrease the learning rate**: This is the most common fix for instability.\n",
    "- **Tune the PPO clip `epsilon`**: A smaller `epsilon` (e.g., 0.1) will make the updates more conservative.\n",
    "- **Increase the KL penalty `beta`**: A larger `beta` will pull the policy back towards the original reference model, preventing it from straying too far into unstable regions.\n",
    "- **Update `model_old` less frequently**: Increasing `update_every` can sometimes add stability.\n",
    "\n",
    "#### Memory Use\n",
    "\n",
    "RL fine-tuning can be more memory-intensive than SFT due to storing rollouts and multiple models. Here are some tips to reduce memory use:\n",
    "\n",
    "- **Reduce `batch_size` or `group_size`**: These directly control how many sequences are held in memory for each iteration.\n",
    "- **Quantization (QLoRA)**: This is highly effective. You can use a quantized base model from Hugging Face or create one with `mlx_lm.convert`.\n",
    "- **Gradient Checkpointing**: This trades computation for memory. Add `grad_checkpoint=True` when calling the training loop and pass it down to the loss function if needed (though our custom loop doesn't have this argument, it could be added).\n",
    "- **Reduce `lora_layers` or `rank`**: Fewer trainable parameters means a smaller memory footprint for gradients and optimizer states.\n",
    "\n",
    "### Next Steps\n",
    "\n",
    "- To learn more about MLX check-out the [GitHub repo](http://github.com/ml-explore/mlx) and [documentation](https://ml-explore.github.io/mlx/)\n",
    "- For more on MLX LM check-out the [MLX LM documentation](https://github.com/ml-explore/mlx-examples/tree/main/llms#readme).\n",
    "- Check out the other [MLX Examples](https://github.com/ml-explore/mlx-examples/tree/main). These are great as a learning resource or to use as a starting point for a new project."
   ]
  }
 ],
 "metadata": {
  "kernelspec": {
   "display_name": "gptoss20b-finetuning-mlx",
   "language": "python",
   "name": "python3"
  },
  "language_info": {
   "codemirror_mode": {
    "name": "ipython",
    "version": 3
   },
   "file_extension": ".py",
   "mimetype": "text/x-python",
   "name": "python",
   "nbconvert_exporter": "python",
   "pygments_lexer": "ipython3",
   "version": "3.12.11"
  }
 },
 "nbformat": 4,
 "nbformat_minor": 5
}
